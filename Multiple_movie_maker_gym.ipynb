{
 "cells": [
  {
   "cell_type": "markdown",
   "metadata": {},
   "source": [
    "How to record and save video of Gym environment\n",
    "\n",
    "https://stackoverflow.com/questions/77042526/how-to-record-and-save-video-of-gym-environment"
   ]
  },
  {
   "cell_type": "markdown",
   "metadata": {},
   "source": [
    "reads a sets of csv and convert them to videos"
   ]
  },
  {
   "cell_type": "code",
   "execution_count": 1,
   "metadata": {},
   "outputs": [],
   "source": [
    "import gymnasium as gym\n",
    "import csv\n",
    "import time\n",
    "from gym.wrappers import RecordVideo\n",
    "import os"
   ]
  },
  {
   "cell_type": "code",
   "execution_count": 2,
   "metadata": {},
   "outputs": [],
   "source": [
    "def replay_from_csv(csv_file, video_path='video'):\n",
    "    # 初始化MountainCarContinuous环境并包装RecordVideo\n",
    "    env = gym.make('MountainCarContinuous-v0',render_mode=\"rgb_array\")\n",
    "    \n",
    "    env = RecordVideo(env, video_path)\n",
    "\n",
    "    env.reset()\n",
    "\n",
    "    # 读取CSV文件\n",
    "    with open(csv_file, newline='') as file:\n",
    "        reader = csv.DictReader(file)\n",
    "        \n",
    "        for row in reader:\n",
    "            # 从CSV行中获取动作和状态\n",
    "            action = float(row['action'])\n",
    "            position = float(row['position'])\n",
    "            velocity = float(row['velocity'])\n",
    "            \n",
    "            # 设置环境状态 (注意：此步骤仅为演示用途，通常不建议直接设置状态)\n",
    "            env.env.state = (position, velocity)\n",
    "            \n",
    "            # 执行动作\n",
    "            env.step([action])  # 动作是一个浮点数列表\n",
    "            \n",
    "            # 模拟时间流逝 (根据时间戳调整播放速度)\n",
    "            time.sleep(0.1)\n",
    "\n",
    "    env.close()"
   ]
  },
  {
   "cell_type": "code",
   "execution_count": 3,
   "metadata": {},
   "outputs": [
    {
     "name": "stdout",
     "output_type": "stream",
     "text": [
      "Processing random_experts_good\\episode_1.csv...\n"
     ]
    },
    {
     "name": "stderr",
     "output_type": "stream",
     "text": [
      "c:\\Users\\syf26\\.conda\\envs\\dif_aug_cuda\\lib\\site-packages\\gymnasium\\core.py:311: UserWarning: \u001b[33mWARN: env.is_vector_env to get variables from other wrappers is deprecated and will be removed in v1.0, to get this variable you can do `env.unwrapped.is_vector_env` for environment variables or `env.get_wrapper_attr('is_vector_env')` that will search the reminding wrappers.\u001b[0m\n",
      "  logger.warn(\n"
     ]
    },
    {
     "name": "stdout",
     "output_type": "stream",
     "text": [
      "Moviepy - Building video d:\\s10\\NAIST\\Codes\\GymScripts\\random_experts_good_video\\episode_1\\rl-video-episode-0.mp4.\n",
      "Moviepy - Writing video d:\\s10\\NAIST\\Codes\\GymScripts\\random_experts_good_video\\episode_1\\rl-video-episode-0.mp4\n",
      "\n"
     ]
    },
    {
     "name": "stderr",
     "output_type": "stream",
     "text": [
      "                                                               \r"
     ]
    },
    {
     "name": "stdout",
     "output_type": "stream",
     "text": [
      "Moviepy - Done !\n",
      "Moviepy - video ready d:\\s10\\NAIST\\Codes\\GymScripts\\random_experts_good_video\\episode_1\\rl-video-episode-0.mp4\n",
      "Processing random_experts_good\\episode_10.csv...\n"
     ]
    },
    {
     "name": "stderr",
     "output_type": "stream",
     "text": [
      "c:\\Users\\syf26\\.conda\\envs\\dif_aug_cuda\\lib\\site-packages\\gymnasium\\core.py:311: UserWarning: \u001b[33mWARN: env.is_vector_env to get variables from other wrappers is deprecated and will be removed in v1.0, to get this variable you can do `env.unwrapped.is_vector_env` for environment variables or `env.get_wrapper_attr('is_vector_env')` that will search the reminding wrappers.\u001b[0m\n",
      "  logger.warn(\n"
     ]
    },
    {
     "name": "stdout",
     "output_type": "stream",
     "text": [
      "Moviepy - Building video d:\\s10\\NAIST\\Codes\\GymScripts\\random_experts_good_video\\episode_10\\rl-video-episode-0.mp4.\n",
      "Moviepy - Writing video d:\\s10\\NAIST\\Codes\\GymScripts\\random_experts_good_video\\episode_10\\rl-video-episode-0.mp4\n",
      "\n"
     ]
    },
    {
     "name": "stderr",
     "output_type": "stream",
     "text": [
      "                                                             "
     ]
    },
    {
     "name": "stdout",
     "output_type": "stream",
     "text": [
      "Moviepy - Done !\n",
      "Moviepy - video ready d:\\s10\\NAIST\\Codes\\GymScripts\\random_experts_good_video\\episode_10\\rl-video-episode-0.mp4\n"
     ]
    },
    {
     "name": "stderr",
     "output_type": "stream",
     "text": [
      "\r"
     ]
    },
    {
     "name": "stdout",
     "output_type": "stream",
     "text": [
      "Processing random_experts_good\\episode_11.csv...\n",
      "Moviepy - Building video d:\\s10\\NAIST\\Codes\\GymScripts\\random_experts_good_video\\episode_11\\rl-video-episode-0.mp4.\n",
      "Moviepy - Writing video d:\\s10\\NAIST\\Codes\\GymScripts\\random_experts_good_video\\episode_11\\rl-video-episode-0.mp4\n",
      "\n"
     ]
    },
    {
     "name": "stderr",
     "output_type": "stream",
     "text": [
      "                                                             \r"
     ]
    },
    {
     "name": "stdout",
     "output_type": "stream",
     "text": [
      "Moviepy - Done !\n",
      "Moviepy - video ready d:\\s10\\NAIST\\Codes\\GymScripts\\random_experts_good_video\\episode_11\\rl-video-episode-0.mp4\n",
      "Processing random_experts_good\\episode_12.csv...\n",
      "Moviepy - Building video d:\\s10\\NAIST\\Codes\\GymScripts\\random_experts_good_video\\episode_12\\rl-video-episode-0.mp4.\n",
      "Moviepy - Writing video d:\\s10\\NAIST\\Codes\\GymScripts\\random_experts_good_video\\episode_12\\rl-video-episode-0.mp4\n",
      "\n"
     ]
    },
    {
     "name": "stderr",
     "output_type": "stream",
     "text": [
      "                                                            \r"
     ]
    },
    {
     "name": "stdout",
     "output_type": "stream",
     "text": [
      "Moviepy - Done !\n",
      "Moviepy - video ready d:\\s10\\NAIST\\Codes\\GymScripts\\random_experts_good_video\\episode_12\\rl-video-episode-0.mp4\n",
      "Processing random_experts_good\\episode_13.csv...\n",
      "Moviepy - Building video d:\\s10\\NAIST\\Codes\\GymScripts\\random_experts_good_video\\episode_13\\rl-video-episode-0.mp4.\n",
      "Moviepy - Writing video d:\\s10\\NAIST\\Codes\\GymScripts\\random_experts_good_video\\episode_13\\rl-video-episode-0.mp4\n",
      "\n"
     ]
    },
    {
     "name": "stderr",
     "output_type": "stream",
     "text": [
      "                                                             "
     ]
    },
    {
     "name": "stdout",
     "output_type": "stream",
     "text": [
      "Moviepy - Done !\n",
      "Moviepy - video ready d:\\s10\\NAIST\\Codes\\GymScripts\\random_experts_good_video\\episode_13\\rl-video-episode-0.mp4\n"
     ]
    },
    {
     "name": "stderr",
     "output_type": "stream",
     "text": [
      "\r"
     ]
    },
    {
     "name": "stdout",
     "output_type": "stream",
     "text": [
      "Processing random_experts_good\\episode_14.csv...\n",
      "Moviepy - Building video d:\\s10\\NAIST\\Codes\\GymScripts\\random_experts_good_video\\episode_14\\rl-video-episode-0.mp4.\n",
      "Moviepy - Writing video d:\\s10\\NAIST\\Codes\\GymScripts\\random_experts_good_video\\episode_14\\rl-video-episode-0.mp4\n",
      "\n"
     ]
    },
    {
     "name": "stderr",
     "output_type": "stream",
     "text": [
      "                                                  "
     ]
    },
    {
     "name": "stdout",
     "output_type": "stream",
     "text": [
      "Moviepy - Done !\n",
      "Moviepy - video ready d:\\s10\\NAIST\\Codes\\GymScripts\\random_experts_good_video\\episode_14\\rl-video-episode-0.mp4\n",
      "Processing random_experts_good\\episode_15.csv...\n"
     ]
    },
    {
     "name": "stderr",
     "output_type": "stream",
     "text": [
      "\r"
     ]
    },
    {
     "name": "stdout",
     "output_type": "stream",
     "text": [
      "Moviepy - Building video d:\\s10\\NAIST\\Codes\\GymScripts\\random_experts_good_video\\episode_15\\rl-video-episode-0.mp4.\n",
      "Moviepy - Writing video d:\\s10\\NAIST\\Codes\\GymScripts\\random_experts_good_video\\episode_15\\rl-video-episode-0.mp4\n",
      "\n"
     ]
    },
    {
     "name": "stderr",
     "output_type": "stream",
     "text": [
      "                                                   "
     ]
    },
    {
     "name": "stdout",
     "output_type": "stream",
     "text": [
      "Moviepy - Done !\n",
      "Moviepy - video ready d:\\s10\\NAIST\\Codes\\GymScripts\\random_experts_good_video\\episode_15\\rl-video-episode-0.mp4\n",
      "Processing random_experts_good\\episode_16.csv...\n"
     ]
    },
    {
     "name": "stderr",
     "output_type": "stream",
     "text": [
      "\r"
     ]
    },
    {
     "name": "stdout",
     "output_type": "stream",
     "text": [
      "Moviepy - Building video d:\\s10\\NAIST\\Codes\\GymScripts\\random_experts_good_video\\episode_16\\rl-video-episode-0.mp4.\n",
      "Moviepy - Writing video d:\\s10\\NAIST\\Codes\\GymScripts\\random_experts_good_video\\episode_16\\rl-video-episode-0.mp4\n",
      "\n"
     ]
    },
    {
     "name": "stderr",
     "output_type": "stream",
     "text": [
      "                                                             "
     ]
    },
    {
     "name": "stdout",
     "output_type": "stream",
     "text": [
      "Moviepy - Done !\n",
      "Moviepy - video ready d:\\s10\\NAIST\\Codes\\GymScripts\\random_experts_good_video\\episode_16\\rl-video-episode-0.mp4\n"
     ]
    },
    {
     "name": "stderr",
     "output_type": "stream",
     "text": [
      "\r"
     ]
    },
    {
     "name": "stdout",
     "output_type": "stream",
     "text": [
      "Processing random_experts_good\\episode_17.csv...\n",
      "Moviepy - Building video d:\\s10\\NAIST\\Codes\\GymScripts\\random_experts_good_video\\episode_17\\rl-video-episode-0.mp4.\n",
      "Moviepy - Writing video d:\\s10\\NAIST\\Codes\\GymScripts\\random_experts_good_video\\episode_17\\rl-video-episode-0.mp4\n",
      "\n"
     ]
    },
    {
     "name": "stderr",
     "output_type": "stream",
     "text": [
      "                                                              "
     ]
    },
    {
     "name": "stdout",
     "output_type": "stream",
     "text": [
      "Moviepy - Done !\n",
      "Moviepy - video ready d:\\s10\\NAIST\\Codes\\GymScripts\\random_experts_good_video\\episode_17\\rl-video-episode-0.mp4\n",
      "Processing random_experts_good\\episode_18.csv...\n"
     ]
    },
    {
     "name": "stderr",
     "output_type": "stream",
     "text": [
      "\r"
     ]
    },
    {
     "name": "stdout",
     "output_type": "stream",
     "text": [
      "Moviepy - Building video d:\\s10\\NAIST\\Codes\\GymScripts\\random_experts_good_video\\episode_18\\rl-video-episode-0.mp4.\n",
      "Moviepy - Writing video d:\\s10\\NAIST\\Codes\\GymScripts\\random_experts_good_video\\episode_18\\rl-video-episode-0.mp4\n",
      "\n"
     ]
    },
    {
     "name": "stderr",
     "output_type": "stream",
     "text": [
      "                                                             "
     ]
    },
    {
     "name": "stdout",
     "output_type": "stream",
     "text": [
      "Moviepy - Done !\n",
      "Moviepy - video ready d:\\s10\\NAIST\\Codes\\GymScripts\\random_experts_good_video\\episode_18\\rl-video-episode-0.mp4\n"
     ]
    },
    {
     "name": "stderr",
     "output_type": "stream",
     "text": [
      "\r"
     ]
    },
    {
     "name": "stdout",
     "output_type": "stream",
     "text": [
      "Processing random_experts_good\\episode_19.csv...\n",
      "Moviepy - Building video d:\\s10\\NAIST\\Codes\\GymScripts\\random_experts_good_video\\episode_19\\rl-video-episode-0.mp4.\n",
      "Moviepy - Writing video d:\\s10\\NAIST\\Codes\\GymScripts\\random_experts_good_video\\episode_19\\rl-video-episode-0.mp4\n",
      "\n"
     ]
    },
    {
     "name": "stderr",
     "output_type": "stream",
     "text": [
      "                                                              "
     ]
    },
    {
     "name": "stdout",
     "output_type": "stream",
     "text": [
      "Moviepy - Done !\n",
      "Moviepy - video ready d:\\s10\\NAIST\\Codes\\GymScripts\\random_experts_good_video\\episode_19\\rl-video-episode-0.mp4\n",
      "Processing random_experts_good\\episode_2.csv...\n"
     ]
    },
    {
     "name": "stderr",
     "output_type": "stream",
     "text": [
      "\r"
     ]
    },
    {
     "name": "stdout",
     "output_type": "stream",
     "text": [
      "Moviepy - Building video d:\\s10\\NAIST\\Codes\\GymScripts\\random_experts_good_video\\episode_2\\rl-video-episode-0.mp4.\n",
      "Moviepy - Writing video d:\\s10\\NAIST\\Codes\\GymScripts\\random_experts_good_video\\episode_2\\rl-video-episode-0.mp4\n",
      "\n"
     ]
    },
    {
     "name": "stderr",
     "output_type": "stream",
     "text": [
      "                                                             "
     ]
    },
    {
     "name": "stdout",
     "output_type": "stream",
     "text": [
      "Moviepy - Done !\n",
      "Moviepy - video ready d:\\s10\\NAIST\\Codes\\GymScripts\\random_experts_good_video\\episode_2\\rl-video-episode-0.mp4\n",
      "Processing random_experts_good\\episode_20.csv...\n"
     ]
    },
    {
     "name": "stderr",
     "output_type": "stream",
     "text": [
      "\r"
     ]
    },
    {
     "name": "stdout",
     "output_type": "stream",
     "text": [
      "Moviepy - Building video d:\\s10\\NAIST\\Codes\\GymScripts\\random_experts_good_video\\episode_20\\rl-video-episode-0.mp4.\n",
      "Moviepy - Writing video d:\\s10\\NAIST\\Codes\\GymScripts\\random_experts_good_video\\episode_20\\rl-video-episode-0.mp4\n",
      "\n"
     ]
    },
    {
     "name": "stderr",
     "output_type": "stream",
     "text": [
      "                                                             "
     ]
    },
    {
     "name": "stdout",
     "output_type": "stream",
     "text": [
      "Moviepy - Done !\n",
      "Moviepy - video ready d:\\s10\\NAIST\\Codes\\GymScripts\\random_experts_good_video\\episode_20\\rl-video-episode-0.mp4\n",
      "Processing random_experts_good\\episode_21.csv...\n"
     ]
    },
    {
     "name": "stderr",
     "output_type": "stream",
     "text": [
      "\r"
     ]
    },
    {
     "name": "stdout",
     "output_type": "stream",
     "text": [
      "Moviepy - Building video d:\\s10\\NAIST\\Codes\\GymScripts\\random_experts_good_video\\episode_21\\rl-video-episode-0.mp4.\n",
      "Moviepy - Writing video d:\\s10\\NAIST\\Codes\\GymScripts\\random_experts_good_video\\episode_21\\rl-video-episode-0.mp4\n",
      "\n"
     ]
    },
    {
     "name": "stderr",
     "output_type": "stream",
     "text": [
      "                                                   \r"
     ]
    },
    {
     "name": "stdout",
     "output_type": "stream",
     "text": [
      "Moviepy - Done !\n",
      "Moviepy - video ready d:\\s10\\NAIST\\Codes\\GymScripts\\random_experts_good_video\\episode_21\\rl-video-episode-0.mp4\n",
      "Processing random_experts_good\\episode_22.csv...\n",
      "Moviepy - Building video d:\\s10\\NAIST\\Codes\\GymScripts\\random_experts_good_video\\episode_22\\rl-video-episode-0.mp4.\n",
      "Moviepy - Writing video d:\\s10\\NAIST\\Codes\\GymScripts\\random_experts_good_video\\episode_22\\rl-video-episode-0.mp4\n",
      "\n"
     ]
    },
    {
     "name": "stderr",
     "output_type": "stream",
     "text": [
      "                                                             "
     ]
    },
    {
     "name": "stdout",
     "output_type": "stream",
     "text": [
      "Moviepy - Done !\n",
      "Moviepy - video ready d:\\s10\\NAIST\\Codes\\GymScripts\\random_experts_good_video\\episode_22\\rl-video-episode-0.mp4\n",
      "Processing random_experts_good\\episode_23.csv...\n"
     ]
    },
    {
     "name": "stderr",
     "output_type": "stream",
     "text": [
      "\r"
     ]
    },
    {
     "name": "stdout",
     "output_type": "stream",
     "text": [
      "Moviepy - Building video d:\\s10\\NAIST\\Codes\\GymScripts\\random_experts_good_video\\episode_23\\rl-video-episode-0.mp4.\n",
      "Moviepy - Writing video d:\\s10\\NAIST\\Codes\\GymScripts\\random_experts_good_video\\episode_23\\rl-video-episode-0.mp4\n",
      "\n"
     ]
    },
    {
     "name": "stderr",
     "output_type": "stream",
     "text": [
      "                                                              \r"
     ]
    },
    {
     "name": "stdout",
     "output_type": "stream",
     "text": [
      "Moviepy - Done !\n",
      "Moviepy - video ready d:\\s10\\NAIST\\Codes\\GymScripts\\random_experts_good_video\\episode_23\\rl-video-episode-0.mp4\n",
      "Processing random_experts_good\\episode_24.csv...\n",
      "Moviepy - Building video d:\\s10\\NAIST\\Codes\\GymScripts\\random_experts_good_video\\episode_24\\rl-video-episode-0.mp4.\n",
      "Moviepy - Writing video d:\\s10\\NAIST\\Codes\\GymScripts\\random_experts_good_video\\episode_24\\rl-video-episode-0.mp4\n",
      "\n"
     ]
    },
    {
     "name": "stderr",
     "output_type": "stream",
     "text": [
      "                                                  "
     ]
    },
    {
     "name": "stdout",
     "output_type": "stream",
     "text": [
      "Moviepy - Done !\n",
      "Moviepy - video ready d:\\s10\\NAIST\\Codes\\GymScripts\\random_experts_good_video\\episode_24\\rl-video-episode-0.mp4\n",
      "Processing random_experts_good\\episode_25.csv...\n"
     ]
    },
    {
     "name": "stderr",
     "output_type": "stream",
     "text": [
      "\r"
     ]
    },
    {
     "name": "stdout",
     "output_type": "stream",
     "text": [
      "Moviepy - Building video d:\\s10\\NAIST\\Codes\\GymScripts\\random_experts_good_video\\episode_25\\rl-video-episode-0.mp4.\n",
      "Moviepy - Writing video d:\\s10\\NAIST\\Codes\\GymScripts\\random_experts_good_video\\episode_25\\rl-video-episode-0.mp4\n",
      "\n"
     ]
    },
    {
     "name": "stderr",
     "output_type": "stream",
     "text": [
      "                                                  "
     ]
    },
    {
     "name": "stdout",
     "output_type": "stream",
     "text": [
      "Moviepy - Done !\n",
      "Moviepy - video ready d:\\s10\\NAIST\\Codes\\GymScripts\\random_experts_good_video\\episode_25\\rl-video-episode-0.mp4\n",
      "Processing random_experts_good\\episode_26.csv...\n"
     ]
    },
    {
     "name": "stderr",
     "output_type": "stream",
     "text": [
      "\r"
     ]
    },
    {
     "name": "stdout",
     "output_type": "stream",
     "text": [
      "Moviepy - Building video d:\\s10\\NAIST\\Codes\\GymScripts\\random_experts_good_video\\episode_26\\rl-video-episode-0.mp4.\n",
      "Moviepy - Writing video d:\\s10\\NAIST\\Codes\\GymScripts\\random_experts_good_video\\episode_26\\rl-video-episode-0.mp4\n",
      "\n"
     ]
    },
    {
     "name": "stderr",
     "output_type": "stream",
     "text": [
      "                                                             \r"
     ]
    },
    {
     "name": "stdout",
     "output_type": "stream",
     "text": [
      "Moviepy - Done !\n",
      "Moviepy - video ready d:\\s10\\NAIST\\Codes\\GymScripts\\random_experts_good_video\\episode_26\\rl-video-episode-0.mp4\n",
      "Processing random_experts_good\\episode_27.csv...\n",
      "Moviepy - Building video d:\\s10\\NAIST\\Codes\\GymScripts\\random_experts_good_video\\episode_27\\rl-video-episode-0.mp4.\n",
      "Moviepy - Writing video d:\\s10\\NAIST\\Codes\\GymScripts\\random_experts_good_video\\episode_27\\rl-video-episode-0.mp4\n",
      "\n"
     ]
    },
    {
     "name": "stderr",
     "output_type": "stream",
     "text": [
      "                                                             \r"
     ]
    },
    {
     "name": "stdout",
     "output_type": "stream",
     "text": [
      "Moviepy - Done !\n",
      "Moviepy - video ready d:\\s10\\NAIST\\Codes\\GymScripts\\random_experts_good_video\\episode_27\\rl-video-episode-0.mp4\n",
      "Processing random_experts_good\\episode_28.csv...\n",
      "Moviepy - Building video d:\\s10\\NAIST\\Codes\\GymScripts\\random_experts_good_video\\episode_28\\rl-video-episode-0.mp4.\n",
      "Moviepy - Writing video d:\\s10\\NAIST\\Codes\\GymScripts\\random_experts_good_video\\episode_28\\rl-video-episode-0.mp4\n",
      "\n"
     ]
    },
    {
     "name": "stderr",
     "output_type": "stream",
     "text": [
      "                                                              \r"
     ]
    },
    {
     "name": "stdout",
     "output_type": "stream",
     "text": [
      "Moviepy - Done !\n",
      "Moviepy - video ready d:\\s10\\NAIST\\Codes\\GymScripts\\random_experts_good_video\\episode_28\\rl-video-episode-0.mp4\n",
      "Processing random_experts_good\\episode_29.csv...\n",
      "Moviepy - Building video d:\\s10\\NAIST\\Codes\\GymScripts\\random_experts_good_video\\episode_29\\rl-video-episode-0.mp4.\n",
      "Moviepy - Writing video d:\\s10\\NAIST\\Codes\\GymScripts\\random_experts_good_video\\episode_29\\rl-video-episode-0.mp4\n",
      "\n"
     ]
    },
    {
     "name": "stderr",
     "output_type": "stream",
     "text": [
      "                                                             "
     ]
    },
    {
     "name": "stdout",
     "output_type": "stream",
     "text": [
      "Moviepy - Done !\n",
      "Moviepy - video ready d:\\s10\\NAIST\\Codes\\GymScripts\\random_experts_good_video\\episode_29\\rl-video-episode-0.mp4\n",
      "Processing random_experts_good\\episode_3.csv...\n"
     ]
    },
    {
     "name": "stderr",
     "output_type": "stream",
     "text": [
      "\r"
     ]
    },
    {
     "name": "stdout",
     "output_type": "stream",
     "text": [
      "Moviepy - Building video d:\\s10\\NAIST\\Codes\\GymScripts\\random_experts_good_video\\episode_3\\rl-video-episode-0.mp4.\n",
      "Moviepy - Writing video d:\\s10\\NAIST\\Codes\\GymScripts\\random_experts_good_video\\episode_3\\rl-video-episode-0.mp4\n",
      "\n"
     ]
    },
    {
     "name": "stderr",
     "output_type": "stream",
     "text": [
      "                                                             "
     ]
    },
    {
     "name": "stdout",
     "output_type": "stream",
     "text": [
      "Moviepy - Done !\n",
      "Moviepy - video ready d:\\s10\\NAIST\\Codes\\GymScripts\\random_experts_good_video\\episode_3\\rl-video-episode-0.mp4\n"
     ]
    },
    {
     "name": "stderr",
     "output_type": "stream",
     "text": [
      "\r"
     ]
    },
    {
     "name": "stdout",
     "output_type": "stream",
     "text": [
      "Processing random_experts_good\\episode_30.csv...\n",
      "Moviepy - Building video d:\\s10\\NAIST\\Codes\\GymScripts\\random_experts_good_video\\episode_30\\rl-video-episode-0.mp4.\n",
      "Moviepy - Writing video d:\\s10\\NAIST\\Codes\\GymScripts\\random_experts_good_video\\episode_30\\rl-video-episode-0.mp4\n",
      "\n"
     ]
    },
    {
     "name": "stderr",
     "output_type": "stream",
     "text": [
      "                                                             "
     ]
    },
    {
     "name": "stdout",
     "output_type": "stream",
     "text": [
      "Moviepy - Done !\n",
      "Moviepy - video ready d:\\s10\\NAIST\\Codes\\GymScripts\\random_experts_good_video\\episode_30\\rl-video-episode-0.mp4\n",
      "Processing random_experts_good\\episode_31.csv...\n"
     ]
    },
    {
     "name": "stderr",
     "output_type": "stream",
     "text": [
      "\r"
     ]
    },
    {
     "name": "stdout",
     "output_type": "stream",
     "text": [
      "Moviepy - Building video d:\\s10\\NAIST\\Codes\\GymScripts\\random_experts_good_video\\episode_31\\rl-video-episode-0.mp4.\n",
      "Moviepy - Writing video d:\\s10\\NAIST\\Codes\\GymScripts\\random_experts_good_video\\episode_31\\rl-video-episode-0.mp4\n",
      "\n"
     ]
    },
    {
     "name": "stderr",
     "output_type": "stream",
     "text": [
      "                                                             "
     ]
    },
    {
     "name": "stdout",
     "output_type": "stream",
     "text": [
      "Moviepy - Done !\n",
      "Moviepy - video ready d:\\s10\\NAIST\\Codes\\GymScripts\\random_experts_good_video\\episode_31\\rl-video-episode-0.mp4\n",
      "Processing random_experts_good\\episode_32.csv...\n"
     ]
    },
    {
     "name": "stderr",
     "output_type": "stream",
     "text": [
      "\r"
     ]
    },
    {
     "name": "stdout",
     "output_type": "stream",
     "text": [
      "Moviepy - Building video d:\\s10\\NAIST\\Codes\\GymScripts\\random_experts_good_video\\episode_32\\rl-video-episode-0.mp4.\n",
      "Moviepy - Writing video d:\\s10\\NAIST\\Codes\\GymScripts\\random_experts_good_video\\episode_32\\rl-video-episode-0.mp4\n",
      "\n"
     ]
    },
    {
     "name": "stderr",
     "output_type": "stream",
     "text": [
      "                                                             "
     ]
    },
    {
     "name": "stdout",
     "output_type": "stream",
     "text": [
      "Moviepy - Done !\n",
      "Moviepy - video ready d:\\s10\\NAIST\\Codes\\GymScripts\\random_experts_good_video\\episode_32\\rl-video-episode-0.mp4\n"
     ]
    },
    {
     "name": "stderr",
     "output_type": "stream",
     "text": [
      "\r"
     ]
    },
    {
     "name": "stdout",
     "output_type": "stream",
     "text": [
      "Processing random_experts_good\\episode_33.csv...\n",
      "Moviepy - Building video d:\\s10\\NAIST\\Codes\\GymScripts\\random_experts_good_video\\episode_33\\rl-video-episode-0.mp4.\n",
      "Moviepy - Writing video d:\\s10\\NAIST\\Codes\\GymScripts\\random_experts_good_video\\episode_33\\rl-video-episode-0.mp4\n",
      "\n"
     ]
    },
    {
     "name": "stderr",
     "output_type": "stream",
     "text": [
      "                                                   "
     ]
    },
    {
     "name": "stdout",
     "output_type": "stream",
     "text": [
      "Moviepy - Done !\n",
      "Moviepy - video ready d:\\s10\\NAIST\\Codes\\GymScripts\\random_experts_good_video\\episode_33\\rl-video-episode-0.mp4\n",
      "Processing random_experts_good\\episode_34.csv...\n"
     ]
    },
    {
     "name": "stderr",
     "output_type": "stream",
     "text": [
      "\r"
     ]
    },
    {
     "name": "stdout",
     "output_type": "stream",
     "text": [
      "Moviepy - Building video d:\\s10\\NAIST\\Codes\\GymScripts\\random_experts_good_video\\episode_34\\rl-video-episode-0.mp4.\n",
      "Moviepy - Writing video d:\\s10\\NAIST\\Codes\\GymScripts\\random_experts_good_video\\episode_34\\rl-video-episode-0.mp4\n",
      "\n"
     ]
    },
    {
     "name": "stderr",
     "output_type": "stream",
     "text": [
      "                                                           \r"
     ]
    },
    {
     "name": "stdout",
     "output_type": "stream",
     "text": [
      "Moviepy - Done !\n",
      "Moviepy - video ready d:\\s10\\NAIST\\Codes\\GymScripts\\random_experts_good_video\\episode_34\\rl-video-episode-0.mp4\n",
      "Processing random_experts_good\\episode_35.csv...\n",
      "Moviepy - Building video d:\\s10\\NAIST\\Codes\\GymScripts\\random_experts_good_video\\episode_35\\rl-video-episode-0.mp4.\n",
      "Moviepy - Writing video d:\\s10\\NAIST\\Codes\\GymScripts\\random_experts_good_video\\episode_35\\rl-video-episode-0.mp4\n",
      "\n"
     ]
    },
    {
     "name": "stderr",
     "output_type": "stream",
     "text": [
      "                                                             "
     ]
    },
    {
     "name": "stdout",
     "output_type": "stream",
     "text": [
      "Moviepy - Done !\n",
      "Moviepy - video ready d:\\s10\\NAIST\\Codes\\GymScripts\\random_experts_good_video\\episode_35\\rl-video-episode-0.mp4\n"
     ]
    },
    {
     "name": "stderr",
     "output_type": "stream",
     "text": [
      "\r"
     ]
    },
    {
     "name": "stdout",
     "output_type": "stream",
     "text": [
      "Processing random_experts_good\\episode_36.csv...\n",
      "Moviepy - Building video d:\\s10\\NAIST\\Codes\\GymScripts\\random_experts_good_video\\episode_36\\rl-video-episode-0.mp4.\n",
      "Moviepy - Writing video d:\\s10\\NAIST\\Codes\\GymScripts\\random_experts_good_video\\episode_36\\rl-video-episode-0.mp4\n",
      "\n"
     ]
    },
    {
     "name": "stderr",
     "output_type": "stream",
     "text": [
      "                                                              \r"
     ]
    },
    {
     "name": "stdout",
     "output_type": "stream",
     "text": [
      "Moviepy - Done !\n",
      "Moviepy - video ready d:\\s10\\NAIST\\Codes\\GymScripts\\random_experts_good_video\\episode_36\\rl-video-episode-0.mp4\n",
      "Processing random_experts_good\\episode_37.csv...\n",
      "Moviepy - Building video d:\\s10\\NAIST\\Codes\\GymScripts\\random_experts_good_video\\episode_37\\rl-video-episode-0.mp4.\n",
      "Moviepy - Writing video d:\\s10\\NAIST\\Codes\\GymScripts\\random_experts_good_video\\episode_37\\rl-video-episode-0.mp4\n",
      "\n"
     ]
    },
    {
     "name": "stderr",
     "output_type": "stream",
     "text": [
      "                                                   "
     ]
    },
    {
     "name": "stdout",
     "output_type": "stream",
     "text": [
      "Moviepy - Done !\n",
      "Moviepy - video ready d:\\s10\\NAIST\\Codes\\GymScripts\\random_experts_good_video\\episode_37\\rl-video-episode-0.mp4\n",
      "Processing random_experts_good\\episode_38.csv...\n"
     ]
    },
    {
     "name": "stderr",
     "output_type": "stream",
     "text": [
      "\r"
     ]
    },
    {
     "name": "stdout",
     "output_type": "stream",
     "text": [
      "Moviepy - Building video d:\\s10\\NAIST\\Codes\\GymScripts\\random_experts_good_video\\episode_38\\rl-video-episode-0.mp4.\n",
      "Moviepy - Writing video d:\\s10\\NAIST\\Codes\\GymScripts\\random_experts_good_video\\episode_38\\rl-video-episode-0.mp4\n",
      "\n"
     ]
    },
    {
     "name": "stderr",
     "output_type": "stream",
     "text": [
      "                                                   "
     ]
    },
    {
     "name": "stdout",
     "output_type": "stream",
     "text": [
      "Moviepy - Done !\n",
      "Moviepy - video ready d:\\s10\\NAIST\\Codes\\GymScripts\\random_experts_good_video\\episode_38\\rl-video-episode-0.mp4\n",
      "Processing random_experts_good\\episode_39.csv...\n"
     ]
    },
    {
     "name": "stderr",
     "output_type": "stream",
     "text": [
      "\r"
     ]
    },
    {
     "name": "stdout",
     "output_type": "stream",
     "text": [
      "Moviepy - Building video d:\\s10\\NAIST\\Codes\\GymScripts\\random_experts_good_video\\episode_39\\rl-video-episode-0.mp4.\n",
      "Moviepy - Writing video d:\\s10\\NAIST\\Codes\\GymScripts\\random_experts_good_video\\episode_39\\rl-video-episode-0.mp4\n",
      "\n"
     ]
    },
    {
     "name": "stderr",
     "output_type": "stream",
     "text": [
      "                                                              "
     ]
    },
    {
     "name": "stdout",
     "output_type": "stream",
     "text": [
      "Moviepy - Done !\n",
      "Moviepy - video ready d:\\s10\\NAIST\\Codes\\GymScripts\\random_experts_good_video\\episode_39\\rl-video-episode-0.mp4\n"
     ]
    },
    {
     "name": "stderr",
     "output_type": "stream",
     "text": [
      "\r"
     ]
    },
    {
     "name": "stdout",
     "output_type": "stream",
     "text": [
      "Processing random_experts_good\\episode_4.csv...\n",
      "Moviepy - Building video d:\\s10\\NAIST\\Codes\\GymScripts\\random_experts_good_video\\episode_4\\rl-video-episode-0.mp4.\n",
      "Moviepy - Writing video d:\\s10\\NAIST\\Codes\\GymScripts\\random_experts_good_video\\episode_4\\rl-video-episode-0.mp4\n",
      "\n"
     ]
    },
    {
     "name": "stderr",
     "output_type": "stream",
     "text": [
      "                                                             "
     ]
    },
    {
     "name": "stdout",
     "output_type": "stream",
     "text": [
      "Moviepy - Done !\n",
      "Moviepy - video ready d:\\s10\\NAIST\\Codes\\GymScripts\\random_experts_good_video\\episode_4\\rl-video-episode-0.mp4\n",
      "Processing random_experts_good\\episode_40.csv...\n"
     ]
    },
    {
     "name": "stderr",
     "output_type": "stream",
     "text": [
      "\r"
     ]
    },
    {
     "name": "stdout",
     "output_type": "stream",
     "text": [
      "Moviepy - Building video d:\\s10\\NAIST\\Codes\\GymScripts\\random_experts_good_video\\episode_40\\rl-video-episode-0.mp4.\n",
      "Moviepy - Writing video d:\\s10\\NAIST\\Codes\\GymScripts\\random_experts_good_video\\episode_40\\rl-video-episode-0.mp4\n",
      "\n"
     ]
    },
    {
     "name": "stderr",
     "output_type": "stream",
     "text": [
      "                                                  "
     ]
    },
    {
     "name": "stdout",
     "output_type": "stream",
     "text": [
      "Moviepy - Done !\n",
      "Moviepy - video ready d:\\s10\\NAIST\\Codes\\GymScripts\\random_experts_good_video\\episode_40\\rl-video-episode-0.mp4\n"
     ]
    },
    {
     "name": "stderr",
     "output_type": "stream",
     "text": [
      "\r"
     ]
    },
    {
     "name": "stdout",
     "output_type": "stream",
     "text": [
      "Processing random_experts_good\\episode_41.csv...\n",
      "Moviepy - Building video d:\\s10\\NAIST\\Codes\\GymScripts\\random_experts_good_video\\episode_41\\rl-video-episode-0.mp4.\n",
      "Moviepy - Writing video d:\\s10\\NAIST\\Codes\\GymScripts\\random_experts_good_video\\episode_41\\rl-video-episode-0.mp4\n",
      "\n"
     ]
    },
    {
     "name": "stderr",
     "output_type": "stream",
     "text": [
      "                                                             \r"
     ]
    },
    {
     "name": "stdout",
     "output_type": "stream",
     "text": [
      "Moviepy - Done !\n",
      "Moviepy - video ready d:\\s10\\NAIST\\Codes\\GymScripts\\random_experts_good_video\\episode_41\\rl-video-episode-0.mp4\n",
      "Processing random_experts_good\\episode_42.csv...\n",
      "Moviepy - Building video d:\\s10\\NAIST\\Codes\\GymScripts\\random_experts_good_video\\episode_42\\rl-video-episode-0.mp4.\n",
      "Moviepy - Writing video d:\\s10\\NAIST\\Codes\\GymScripts\\random_experts_good_video\\episode_42\\rl-video-episode-0.mp4\n",
      "\n"
     ]
    },
    {
     "name": "stderr",
     "output_type": "stream",
     "text": [
      "                                                             \r"
     ]
    },
    {
     "name": "stdout",
     "output_type": "stream",
     "text": [
      "Moviepy - Done !\n",
      "Moviepy - video ready d:\\s10\\NAIST\\Codes\\GymScripts\\random_experts_good_video\\episode_42\\rl-video-episode-0.mp4\n",
      "Processing random_experts_good\\episode_43.csv...\n",
      "Moviepy - Building video d:\\s10\\NAIST\\Codes\\GymScripts\\random_experts_good_video\\episode_43\\rl-video-episode-0.mp4.\n",
      "Moviepy - Writing video d:\\s10\\NAIST\\Codes\\GymScripts\\random_experts_good_video\\episode_43\\rl-video-episode-0.mp4\n",
      "\n"
     ]
    },
    {
     "name": "stderr",
     "output_type": "stream",
     "text": [
      "                                                             "
     ]
    },
    {
     "name": "stdout",
     "output_type": "stream",
     "text": [
      "Moviepy - Done !\n",
      "Moviepy - video ready d:\\s10\\NAIST\\Codes\\GymScripts\\random_experts_good_video\\episode_43\\rl-video-episode-0.mp4\n"
     ]
    },
    {
     "name": "stderr",
     "output_type": "stream",
     "text": [
      "\r"
     ]
    },
    {
     "name": "stdout",
     "output_type": "stream",
     "text": [
      "Processing random_experts_good\\episode_44.csv...\n",
      "Moviepy - Building video d:\\s10\\NAIST\\Codes\\GymScripts\\random_experts_good_video\\episode_44\\rl-video-episode-0.mp4.\n",
      "Moviepy - Writing video d:\\s10\\NAIST\\Codes\\GymScripts\\random_experts_good_video\\episode_44\\rl-video-episode-0.mp4\n",
      "\n"
     ]
    },
    {
     "name": "stderr",
     "output_type": "stream",
     "text": [
      "                                                             "
     ]
    },
    {
     "name": "stdout",
     "output_type": "stream",
     "text": [
      "Moviepy - Done !\n",
      "Moviepy - video ready d:\\s10\\NAIST\\Codes\\GymScripts\\random_experts_good_video\\episode_44\\rl-video-episode-0.mp4\n",
      "Processing random_experts_good\\episode_45.csv...\n"
     ]
    },
    {
     "name": "stderr",
     "output_type": "stream",
     "text": [
      "\r"
     ]
    },
    {
     "name": "stdout",
     "output_type": "stream",
     "text": [
      "Moviepy - Building video d:\\s10\\NAIST\\Codes\\GymScripts\\random_experts_good_video\\episode_45\\rl-video-episode-0.mp4.\n",
      "Moviepy - Writing video d:\\s10\\NAIST\\Codes\\GymScripts\\random_experts_good_video\\episode_45\\rl-video-episode-0.mp4\n",
      "\n"
     ]
    },
    {
     "name": "stderr",
     "output_type": "stream",
     "text": [
      "                                                   "
     ]
    },
    {
     "name": "stdout",
     "output_type": "stream",
     "text": [
      "Moviepy - Done !\n",
      "Moviepy - video ready d:\\s10\\NAIST\\Codes\\GymScripts\\random_experts_good_video\\episode_45\\rl-video-episode-0.mp4\n",
      "Processing random_experts_good\\episode_46.csv...\n"
     ]
    },
    {
     "name": "stderr",
     "output_type": "stream",
     "text": [
      "\r"
     ]
    },
    {
     "name": "stdout",
     "output_type": "stream",
     "text": [
      "Moviepy - Building video d:\\s10\\NAIST\\Codes\\GymScripts\\random_experts_good_video\\episode_46\\rl-video-episode-0.mp4.\n",
      "Moviepy - Writing video d:\\s10\\NAIST\\Codes\\GymScripts\\random_experts_good_video\\episode_46\\rl-video-episode-0.mp4\n",
      "\n"
     ]
    },
    {
     "name": "stderr",
     "output_type": "stream",
     "text": [
      "                                                  "
     ]
    },
    {
     "name": "stdout",
     "output_type": "stream",
     "text": [
      "Moviepy - Done !\n",
      "Moviepy - video ready d:\\s10\\NAIST\\Codes\\GymScripts\\random_experts_good_video\\episode_46\\rl-video-episode-0.mp4\n",
      "Processing random_experts_good\\episode_47.csv...\n"
     ]
    },
    {
     "name": "stderr",
     "output_type": "stream",
     "text": [
      "\r"
     ]
    },
    {
     "name": "stdout",
     "output_type": "stream",
     "text": [
      "Moviepy - Building video d:\\s10\\NAIST\\Codes\\GymScripts\\random_experts_good_video\\episode_47\\rl-video-episode-0.mp4.\n",
      "Moviepy - Writing video d:\\s10\\NAIST\\Codes\\GymScripts\\random_experts_good_video\\episode_47\\rl-video-episode-0.mp4\n",
      "\n"
     ]
    },
    {
     "name": "stderr",
     "output_type": "stream",
     "text": [
      "                                                             "
     ]
    },
    {
     "name": "stdout",
     "output_type": "stream",
     "text": [
      "Moviepy - Done !\n",
      "Moviepy - video ready d:\\s10\\NAIST\\Codes\\GymScripts\\random_experts_good_video\\episode_47\\rl-video-episode-0.mp4\n",
      "Processing random_experts_good\\episode_48.csv...\n"
     ]
    },
    {
     "name": "stderr",
     "output_type": "stream",
     "text": [
      "\r"
     ]
    },
    {
     "name": "stdout",
     "output_type": "stream",
     "text": [
      "Moviepy - Building video d:\\s10\\NAIST\\Codes\\GymScripts\\random_experts_good_video\\episode_48\\rl-video-episode-0.mp4.\n",
      "Moviepy - Writing video d:\\s10\\NAIST\\Codes\\GymScripts\\random_experts_good_video\\episode_48\\rl-video-episode-0.mp4\n",
      "\n"
     ]
    },
    {
     "name": "stderr",
     "output_type": "stream",
     "text": [
      "                                                              \r"
     ]
    },
    {
     "name": "stdout",
     "output_type": "stream",
     "text": [
      "Moviepy - Done !\n",
      "Moviepy - video ready d:\\s10\\NAIST\\Codes\\GymScripts\\random_experts_good_video\\episode_48\\rl-video-episode-0.mp4\n",
      "Processing random_experts_good\\episode_49.csv...\n",
      "Moviepy - Building video d:\\s10\\NAIST\\Codes\\GymScripts\\random_experts_good_video\\episode_49\\rl-video-episode-0.mp4.\n",
      "Moviepy - Writing video d:\\s10\\NAIST\\Codes\\GymScripts\\random_experts_good_video\\episode_49\\rl-video-episode-0.mp4\n",
      "\n"
     ]
    },
    {
     "name": "stderr",
     "output_type": "stream",
     "text": [
      "                                                   "
     ]
    },
    {
     "name": "stdout",
     "output_type": "stream",
     "text": [
      "Moviepy - Done !\n",
      "Moviepy - video ready d:\\s10\\NAIST\\Codes\\GymScripts\\random_experts_good_video\\episode_49\\rl-video-episode-0.mp4\n"
     ]
    },
    {
     "name": "stderr",
     "output_type": "stream",
     "text": [
      "\r"
     ]
    },
    {
     "name": "stdout",
     "output_type": "stream",
     "text": [
      "Processing random_experts_good\\episode_5.csv...\n",
      "Moviepy - Building video d:\\s10\\NAIST\\Codes\\GymScripts\\random_experts_good_video\\episode_5\\rl-video-episode-0.mp4.\n",
      "Moviepy - Writing video d:\\s10\\NAIST\\Codes\\GymScripts\\random_experts_good_video\\episode_5\\rl-video-episode-0.mp4\n",
      "\n"
     ]
    },
    {
     "name": "stderr",
     "output_type": "stream",
     "text": [
      "                                                             "
     ]
    },
    {
     "name": "stdout",
     "output_type": "stream",
     "text": [
      "Moviepy - Done !\n",
      "Moviepy - video ready d:\\s10\\NAIST\\Codes\\GymScripts\\random_experts_good_video\\episode_5\\rl-video-episode-0.mp4\n"
     ]
    },
    {
     "name": "stderr",
     "output_type": "stream",
     "text": [
      "\r"
     ]
    },
    {
     "name": "stdout",
     "output_type": "stream",
     "text": [
      "Processing random_experts_good\\episode_50.csv...\n",
      "Moviepy - Building video d:\\s10\\NAIST\\Codes\\GymScripts\\random_experts_good_video\\episode_50\\rl-video-episode-0.mp4.\n",
      "Moviepy - Writing video d:\\s10\\NAIST\\Codes\\GymScripts\\random_experts_good_video\\episode_50\\rl-video-episode-0.mp4\n",
      "\n"
     ]
    },
    {
     "name": "stderr",
     "output_type": "stream",
     "text": [
      "                                                             "
     ]
    },
    {
     "name": "stdout",
     "output_type": "stream",
     "text": [
      "Moviepy - Done !\n",
      "Moviepy - video ready d:\\s10\\NAIST\\Codes\\GymScripts\\random_experts_good_video\\episode_50\\rl-video-episode-0.mp4\n"
     ]
    },
    {
     "name": "stderr",
     "output_type": "stream",
     "text": [
      "\r"
     ]
    },
    {
     "name": "stdout",
     "output_type": "stream",
     "text": [
      "Processing random_experts_good\\episode_6.csv...\n",
      "Moviepy - Building video d:\\s10\\NAIST\\Codes\\GymScripts\\random_experts_good_video\\episode_6\\rl-video-episode-0.mp4.\n",
      "Moviepy - Writing video d:\\s10\\NAIST\\Codes\\GymScripts\\random_experts_good_video\\episode_6\\rl-video-episode-0.mp4\n",
      "\n"
     ]
    },
    {
     "name": "stderr",
     "output_type": "stream",
     "text": [
      "                                                              \r"
     ]
    },
    {
     "name": "stdout",
     "output_type": "stream",
     "text": [
      "Moviepy - Done !\n",
      "Moviepy - video ready d:\\s10\\NAIST\\Codes\\GymScripts\\random_experts_good_video\\episode_6\\rl-video-episode-0.mp4\n",
      "Processing random_experts_good\\episode_7.csv...\n",
      "Moviepy - Building video d:\\s10\\NAIST\\Codes\\GymScripts\\random_experts_good_video\\episode_7\\rl-video-episode-0.mp4.\n",
      "Moviepy - Writing video d:\\s10\\NAIST\\Codes\\GymScripts\\random_experts_good_video\\episode_7\\rl-video-episode-0.mp4\n",
      "\n"
     ]
    },
    {
     "name": "stderr",
     "output_type": "stream",
     "text": [
      "                                                             "
     ]
    },
    {
     "name": "stdout",
     "output_type": "stream",
     "text": [
      "Moviepy - Done !\n",
      "Moviepy - video ready d:\\s10\\NAIST\\Codes\\GymScripts\\random_experts_good_video\\episode_7\\rl-video-episode-0.mp4\n",
      "Processing random_experts_good\\episode_8.csv...\n"
     ]
    },
    {
     "name": "stderr",
     "output_type": "stream",
     "text": [
      "\r"
     ]
    },
    {
     "name": "stdout",
     "output_type": "stream",
     "text": [
      "Moviepy - Building video d:\\s10\\NAIST\\Codes\\GymScripts\\random_experts_good_video\\episode_8\\rl-video-episode-0.mp4.\n",
      "Moviepy - Writing video d:\\s10\\NAIST\\Codes\\GymScripts\\random_experts_good_video\\episode_8\\rl-video-episode-0.mp4\n",
      "\n"
     ]
    },
    {
     "name": "stderr",
     "output_type": "stream",
     "text": [
      "                                                             "
     ]
    },
    {
     "name": "stdout",
     "output_type": "stream",
     "text": [
      "Moviepy - Done !\n",
      "Moviepy - video ready d:\\s10\\NAIST\\Codes\\GymScripts\\random_experts_good_video\\episode_8\\rl-video-episode-0.mp4\n"
     ]
    },
    {
     "name": "stderr",
     "output_type": "stream",
     "text": [
      "\r"
     ]
    },
    {
     "name": "stdout",
     "output_type": "stream",
     "text": [
      "Processing random_experts_good\\episode_9.csv...\n",
      "Moviepy - Building video d:\\s10\\NAIST\\Codes\\GymScripts\\random_experts_good_video\\episode_9\\rl-video-episode-0.mp4.\n",
      "Moviepy - Writing video d:\\s10\\NAIST\\Codes\\GymScripts\\random_experts_good_video\\episode_9\\rl-video-episode-0.mp4\n",
      "\n"
     ]
    },
    {
     "name": "stderr",
     "output_type": "stream",
     "text": [
      "                                                              \r"
     ]
    },
    {
     "name": "stdout",
     "output_type": "stream",
     "text": [
      "Moviepy - Done !\n",
      "Moviepy - video ready d:\\s10\\NAIST\\Codes\\GymScripts\\random_experts_good_video\\episode_9\\rl-video-episode-0.mp4\n"
     ]
    }
   ],
   "source": [
    "def process_csv_files(input_folder):\n",
    "    # 创建输出文件夹（加上_video后缀）\n",
    "    output_folder = input_folder + '_video'\n",
    "    if not os.path.exists(output_folder):\n",
    "        os.makedirs(output_folder)\n",
    "    \n",
    "    # 遍历文件夹中的所有CSV文件\n",
    "    for filename in os.listdir(input_folder):\n",
    "        if filename.endswith('.csv'):\n",
    "            # 构建完整的CSV文件路径\n",
    "            csv_file_path = os.path.join(input_folder, filename)\n",
    "            \n",
    "            # 输出视频文件夹路径（保持和CSV文件同名）\n",
    "            video_output_path = os.path.join(output_folder, os.path.splitext(filename)[0])\n",
    "            \n",
    "            # 调用replay_from_csv函数，生成视频\n",
    "            print(f\"Processing {csv_file_path}...\")\n",
    "            replay_from_csv(csv_file_path, video_output_path)\n",
    "\n",
    "# 指定你要处理的CSV文件夹路径\n",
    "input_folder = 'random_experts_good'\n",
    "process_csv_files(input_folder)"
   ]
  }
 ],
 "metadata": {
  "kernelspec": {
   "display_name": "dif_aug_cuda",
   "language": "python",
   "name": "python3"
  },
  "language_info": {
   "codemirror_mode": {
    "name": "ipython",
    "version": 3
   },
   "file_extension": ".py",
   "mimetype": "text/x-python",
   "name": "python",
   "nbconvert_exporter": "python",
   "pygments_lexer": "ipython3",
   "version": "3.10.14"
  }
 },
 "nbformat": 4,
 "nbformat_minor": 2
}
