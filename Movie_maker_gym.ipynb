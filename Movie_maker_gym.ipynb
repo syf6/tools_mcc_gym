{
 "cells": [
  {
   "cell_type": "markdown",
   "metadata": {},
   "source": [
    "How to record and save video of Gym environment\n",
    "\n",
    "https://stackoverflow.com/questions/77042526/how-to-record-and-save-video-of-gym-environment"
   ]
  },
  {
   "cell_type": "markdown",
   "metadata": {},
   "source": [
    "manual control replay"
   ]
  },
  {
   "cell_type": "code",
   "execution_count": 1,
   "metadata": {},
   "outputs": [
    {
     "name": "stderr",
     "output_type": "stream",
     "text": [
      "c:\\Users\\syf26\\.conda\\envs\\dif_aug_cuda\\lib\\site-packages\\gymnasium\\core.py:311: UserWarning: \u001b[33mWARN: env.is_vector_env to get variables from other wrappers is deprecated and will be removed in v1.0, to get this variable you can do `env.unwrapped.is_vector_env` for environment variables or `env.get_wrapper_attr('is_vector_env')` that will search the reminding wrappers.\u001b[0m\n",
      "  logger.warn(\n"
     ]
    },
    {
     "name": "stdout",
     "output_type": "stream",
     "text": [
      "Moviepy - Building video d:\\s10\\NAIST\\Codes\\GymScripts\\video\\rl-video-episode-0.mp4.\n",
      "Moviepy - Writing video d:\\s10\\NAIST\\Codes\\GymScripts\\video\\rl-video-episode-0.mp4\n",
      "\n"
     ]
    },
    {
     "name": "stderr",
     "output_type": "stream",
     "text": [
      "                                                              \r"
     ]
    },
    {
     "name": "stdout",
     "output_type": "stream",
     "text": [
      "Moviepy - Done !\n",
      "Moviepy - video ready d:\\s10\\NAIST\\Codes\\GymScripts\\video\\rl-video-episode-0.mp4\n"
     ]
    }
   ],
   "source": [
    "import gymnasium as gym\n",
    "import csv\n",
    "import time\n",
    "from gym.wrappers import RecordVideo\n",
    "\n",
    "def replay_from_csv(csv_file, video_path='video'):\n",
    "    # 初始化MountainCarContinuous环境并包装RecordVideo\n",
    "    env = gym.make('MountainCarContinuous-v0',render_mode=\"rgb_array\")\n",
    "    \n",
    "    env = RecordVideo(env, video_path)\n",
    "\n",
    "    env.reset()\n",
    "\n",
    "    # 读取CSV文件\n",
    "    with open(csv_file, newline='') as file:\n",
    "        reader = csv.DictReader(file)\n",
    "        \n",
    "        for row in reader:\n",
    "            # 从CSV行中获取动作和状态\n",
    "            action = float(row['action'])\n",
    "            position = float(row['position'])\n",
    "            velocity = float(row['velocity'])\n",
    "            \n",
    "            # 设置环境状态 (注意：此步骤仅为演示用途，通常不建议直接设置状态)\n",
    "            env.env.state = (position, velocity)\n",
    "            \n",
    "            # 执行动作\n",
    "            env.step([action])  # 动作是一个浮点数列表\n",
    "            \n",
    "            # 模拟时间流逝 (根据时间戳调整播放速度)\n",
    "            time.sleep(0.1)\n",
    "\n",
    "    env.close()\n",
    "\n",
    "if __name__ == '__main__':\n",
    "    replay_from_csv('episode_1.csv')"
   ]
  }
 ],
 "metadata": {
  "kernelspec": {
   "display_name": "dif_aug_cuda",
   "language": "python",
   "name": "python3"
  },
  "language_info": {
   "codemirror_mode": {
    "name": "ipython",
    "version": 3
   },
   "file_extension": ".py",
   "mimetype": "text/x-python",
   "name": "python",
   "nbconvert_exporter": "python",
   "pygments_lexer": "ipython3",
   "version": "3.10.14"
  }
 },
 "nbformat": 4,
 "nbformat_minor": 2
}
