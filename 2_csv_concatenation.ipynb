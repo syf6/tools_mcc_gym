{
 "cells": [
  {
   "cell_type": "code",
   "execution_count": 1,
   "metadata": {},
   "outputs": [],
   "source": [
    "import os\n",
    "import pandas as pd"
   ]
  },
  {
   "cell_type": "code",
   "execution_count": 3,
   "metadata": {},
   "outputs": [],
   "source": [
    "def concatenate_two_csv(file1, file2, output_file):\n",
    "    \"\"\"\n",
    "    将两个CSV文件按照顺序拼接到一起。\n",
    "    \n",
    "    :param file1: 第一个CSV文件的路径（在前）\n",
    "    :param file2: 第二个CSV文件的路径（在后）\n",
    "    :param output_file: 输出文件的路径\n",
    "    \"\"\"\n",
    "    # 读取第一个文件\n",
    "    df1 = pd.read_csv(file1)\n",
    "    \n",
    "    # 读取第二个文件，并确保跳过列名\n",
    "    df2 = pd.read_csv(file2, skiprows=1, header=None, names=df1.columns)\n",
    "    \n",
    "    # 拼接两个文件\n",
    "    combined_df = pd.concat([df1, df2], ignore_index=True)\n",
    "    \n",
    "    # 保存拼接后的结果\n",
    "    combined_df.to_csv(output_file, index=False)\n",
    "    \n",
    "    print(f\"文件 {file1} 和 {file2} 已成功拼接并保存到 {output_file}\")"
   ]
  },
  {
   "cell_type": "code",
   "execution_count": 4,
   "metadata": {},
   "outputs": [
    {
     "name": "stdout",
     "output_type": "stream",
     "text": [
      "文件 random_expert_trajectory\\combined_big_random_expert_trajectory.csv 和 random_expert_trajectory\\combined_little_random_expert_trajectory.csv 已成功拼接并保存到 random_expert_trajectory\\combined_episodes.csv\n"
     ]
    }
   ],
   "source": [
    "if __name__ == \"__main__\":\n",
    "    folder_path = \"random_expert_trajectory\"\n",
    "    \n",
    "    # 指定两个要拼接的文件\n",
    "    file1 = os.path.join(folder_path, \"combined_big_random_expert_trajectory.csv\")\n",
    "    file2 = os.path.join(folder_path, \"combined_little_random_expert_trajectory.csv\")\n",
    "    \n",
    "    # 指定输出文件路径\n",
    "    output_file = os.path.join(folder_path, \"combined_episodes.csv\")\n",
    "    \n",
    "    # 调用拼接函数\n",
    "    concatenate_two_csv(file1, file2, output_file)"
   ]
  }
 ],
 "metadata": {
  "kernelspec": {
   "display_name": "dif_aug_cuda",
   "language": "python",
   "name": "python3"
  },
  "language_info": {
   "codemirror_mode": {
    "name": "ipython",
    "version": 3
   },
   "file_extension": ".py",
   "mimetype": "text/x-python",
   "name": "python",
   "nbconvert_exporter": "python",
   "pygments_lexer": "ipython3",
   "version": "3.10.14"
  }
 },
 "nbformat": 4,
 "nbformat_minor": 2
}
