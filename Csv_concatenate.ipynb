{
 "cells": [
  {
   "cell_type": "markdown",
   "metadata": {},
   "source": [
    "Concatenate 50 csv mountain car continous datas together"
   ]
  },
  {
   "cell_type": "code",
   "execution_count": 1,
   "metadata": {},
   "outputs": [],
   "source": [
    "import os\n",
    "import pandas as pd"
   ]
  },
  {
   "cell_type": "markdown",
   "metadata": {},
   "source": [
    "这是因为在第二个文件及其后的文件使用 header=None 读取时，Pandas 会将第一行的数据当作列名来处理。为了解决这个问题，需要确保后续文件的数据行从第二行开始读取，而不是将其第一行当作列名。"
   ]
  },
  {
   "cell_type": "code",
   "execution_count": 4,
   "metadata": {},
   "outputs": [
    {
     "name": "stdout",
     "output_type": "stream",
     "text": [
      "all files has been concatenated to combined_episodes.csv\n"
     ]
    }
   ],
   "source": [
    "# define input folder path and concatenated file name\n",
    "folder_path = \"random_experts_good\" \n",
    "output_file = \"combined_episodes.csv\"\n",
    "\n",
    "# 初始化一个空的DataFrame，并读取第一个文件\n",
    "combined_df = pd.read_csv(os.path.join(folder_path, \"episode_1.csv\"))\n",
    "\n",
    "# 获取列名（第一个文件的列名作为标准）\n",
    "columns = combined_df.columns\n",
    "\n",
    "# 从第二个文件开始，读取并拼接数据，但跳过列名\n",
    "for i in range(2, 51):\n",
    "    file_path = os.path.join(folder_path, f\"episode_{i}.csv\")\n",
    "    if os.path.exists(file_path):\n",
    "        # 跳过第一行列名，并确保列数与第一个文件一致\n",
    "        df = pd.read_csv(file_path, skiprows=1, header=None, names=columns)\n",
    "        combined_df = pd.concat([combined_df, df], ignore_index=True)\n",
    "    else:\n",
    "        print(f\"file {file_path} does not exist, skip\")\n",
    "\n",
    "# 将拼接后的数据保存到新的CSV文件中\n",
    "combined_df.to_csv(output_file, index=False)\n",
    "\n",
    "print(f\"all files has been concatenated to {output_file}\")"
   ]
  }
 ],
 "metadata": {
  "kernelspec": {
   "display_name": "dif_aug_cuda",
   "language": "python",
   "name": "python3"
  },
  "language_info": {
   "codemirror_mode": {
    "name": "ipython",
    "version": 3
   },
   "file_extension": ".py",
   "mimetype": "text/x-python",
   "name": "python",
   "nbconvert_exporter": "python",
   "pygments_lexer": "ipython3",
   "version": "3.10.14"
  }
 },
 "nbformat": 4,
 "nbformat_minor": 2
}
